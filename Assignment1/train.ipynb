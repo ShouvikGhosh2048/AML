{
 "cells": [
  {
   "cell_type": "code",
   "execution_count": 1,
   "metadata": {},
   "outputs": [],
   "source": [
    "import csv\n",
    "from sklearn.feature_extraction.text import TfidfVectorizer\n",
    "\n",
    "train_x = []\n",
    "train_y = []\n",
    "with open('train.csv', newline='') as f:\n",
    "    reader = csv.reader(f, delimiter=',', quotechar='|')\n",
    "    for [line, label] in reader:\n",
    "        train_x.append(line)\n",
    "        train_y.append(int(label))\n",
    "\n",
    "vectorizer = TfidfVectorizer()\n",
    "train_x = vectorizer.fit_transform(train_x)\n",
    "\n",
    "validation_x = []\n",
    "validation_y = []\n",
    "with open('validation.csv', newline='') as f:\n",
    "    reader = csv.reader(f, delimiter=',', quotechar='|')\n",
    "    for [line, label] in reader:\n",
    "        validation_x.append(line)\n",
    "        validation_y.append(int(label))\n",
    "\n",
    "validation_x = vectorizer.transform(validation_x)\n",
    "\n",
    "test_x = []\n",
    "test_y = []\n",
    "with open('test.csv', newline='') as f:\n",
    "    reader = csv.reader(f, delimiter=',', quotechar='|')\n",
    "    for [line, label] in reader:\n",
    "        test_x.append(line)\n",
    "        test_y.append(int(label))\n",
    "\n",
    "test_x = vectorizer.transform(test_x)"
   ]
  },
  {
   "cell_type": "code",
   "execution_count": 2,
   "metadata": {},
   "outputs": [
    {
     "name": "stdout",
     "output_type": "stream",
     "text": [
      "Naive Bayes:\n",
      "Training accuracy:  0.9710330684439887\n",
      "Validation accuracy:  0.9521531100478469\n",
      "Test accuracy:  0.956989247311828\n",
      "Test precision:  1.0\n",
      "Test recall:  0.6727272727272727\n",
      "\n",
      "Logistic Regression:\n",
      "Training accuracy:  0.9735965137144322\n",
      "Validation accuracy:  0.9641148325358851\n",
      "Test accuracy:  0.977299880525687\n",
      "Test precision:  1.0\n",
      "Test recall:  0.8272727272727273\n",
      "\n",
      "Random Forest:\n",
      "Training accuracy:  1.0\n",
      "Validation accuracy:  0.9700956937799043\n",
      "Test accuracy:  0.97610513739546\n",
      "Test precision:  1.0\n",
      "Test recall:  0.8181818181818182\n"
     ]
    }
   ],
   "source": [
    "from sklearn.naive_bayes import MultinomialNB\n",
    "from sklearn.linear_model import LogisticRegression\n",
    "from sklearn.ensemble import RandomForestClassifier\n",
    "from sklearn.metrics import precision_score, recall_score\n",
    "\n",
    "def evaluate(model):\n",
    "    train_score = model.score(train_x, train_y)\n",
    "    validation_score = model.score(validation_x, validation_y)\n",
    "    test_score = model.score(test_x, test_y)\n",
    "    test_predict = model.predict(test_x)\n",
    "    print('Training accuracy: ', train_score)\n",
    "    print('Validation accuracy: ', validation_score)\n",
    "    print('Test accuracy: ', test_score)\n",
    "    print('Test precision: ', precision_score(test_y, test_predict))\n",
    "    print('Test recall: ', recall_score(test_y, test_predict))\n",
    "\n",
    "print('Naive Bayes:')\n",
    "model_naive_bayes = MultinomialNB()\n",
    "model_naive_bayes.fit(train_x, train_y)\n",
    "evaluate(model_naive_bayes)\n",
    "print('')\n",
    "\n",
    "print('Logistic Regression:')\n",
    "model_logistic_regression = LogisticRegression(random_state=0)\n",
    "model_logistic_regression.fit(train_x, train_y)\n",
    "evaluate(model_logistic_regression)\n",
    "print('')\n",
    "\n",
    "print('Random Forest:')\n",
    "model_random_forest = RandomForestClassifier(random_state=0)\n",
    "model_random_forest.fit(train_x, train_y)\n",
    "evaluate(model_random_forest)\n",
    "\n",
    "# Logistic regression and random forests perform the best.\n",
    "# On the test dataset, logistic regression performs better."
   ]
  }
 ],
 "metadata": {
  "kernelspec": {
   "display_name": "Python 3",
   "language": "python",
   "name": "python3"
  },
  "language_info": {
   "codemirror_mode": {
    "name": "ipython",
    "version": 3
   },
   "file_extension": ".py",
   "mimetype": "text/x-python",
   "name": "python",
   "nbconvert_exporter": "python",
   "pygments_lexer": "ipython3",
   "version": "3.11.1"
  },
  "orig_nbformat": 4,
  "vscode": {
   "interpreter": {
    "hash": "669a8374c20ac2139541daf9c12dd956989bb09f7e2eeaf533d68376f2f92dcf"
   }
  }
 },
 "nbformat": 4,
 "nbformat_minor": 2
}
