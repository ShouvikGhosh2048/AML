{
 "cells": [
  {
   "cell_type": "code",
   "execution_count": 1,
   "metadata": {},
   "outputs": [],
   "source": [
    "import csv\n",
    "\n",
    "def load_data(filepath):\n",
    "    with open(filepath) as f:\n",
    "        data = f.read()\n",
    "    return data\n",
    "\n",
    "def preprocess_data(data):\n",
    "    lines = data.split('\\n')\n",
    "\n",
    "    input_lines = []\n",
    "    labels = []\n",
    "    for line in lines:\n",
    "        if line != '':\n",
    "            [label, input_line] = line.split('\\t')\n",
    "            input_lines.append(input_line)\n",
    "            if label == 'spam':\n",
    "                labels.append(1)\n",
    "            else:\n",
    "                labels.append(0)\n",
    "    \n",
    "    return [input_lines, labels]\n",
    "\n",
    "def prepare_train_validation_test_split(X, Y):\n",
    "    n = len(Y)\n",
    "    train_x = X[:int(0.7 * n)]\n",
    "    train_y = Y[:int(0.7 * n)]\n",
    "    validation_x = X[int(0.7 * n):int(0.85 * n)]\n",
    "    validation_y = Y[int(0.7 * n):int(0.85 * n)]\n",
    "    test_x = X[int(0.85 * n):]\n",
    "    test_y = Y[int(0.85 * n):]\n",
    "\n",
    "    return [\n",
    "        [train_x, train_y],\n",
    "        [validation_x, validation_y],\n",
    "        [test_x, test_y]\n",
    "    ]\n",
    "\n",
    "def save_data(train, validation, test):\n",
    "    filenames_and_data = [\n",
    "        ('train.csv', train),\n",
    "        ('validation.csv', validation),\n",
    "        ('test.csv', test)\n",
    "    ]\n",
    "\n",
    "    for (filename, data) in filenames_and_data:\n",
    "        with open(filename, 'w', newline='') as f:\n",
    "            [x, y] = data\n",
    "            writer = csv.writer(f, delimiter=',', quotechar='|', quoting=csv.QUOTE_MINIMAL)\n",
    "            for i in range(len(data[1])):\n",
    "                writer.writerow([x[i], y[i]])"
   ]
  },
  {
   "cell_type": "code",
   "execution_count": 2,
   "metadata": {},
   "outputs": [],
   "source": [
    "data = load_data('smsspamcollection/SMSSpamCollection')\n",
    "[X, Y] = preprocess_data(data)\n",
    "[train, validation, test] = prepare_train_validation_test_split(X, Y)\n",
    "save_data(train, validation, test)"
   ]
  }
 ],
 "metadata": {
  "kernelspec": {
   "display_name": "Python 3",
   "language": "python",
   "name": "python3"
  },
  "language_info": {
   "codemirror_mode": {
    "name": "ipython",
    "version": 3
   },
   "file_extension": ".py",
   "mimetype": "text/x-python",
   "name": "python",
   "nbconvert_exporter": "python",
   "pygments_lexer": "ipython3",
   "version": "3.11.1"
  },
  "orig_nbformat": 4,
  "vscode": {
   "interpreter": {
    "hash": "669a8374c20ac2139541daf9c12dd956989bb09f7e2eeaf533d68376f2f92dcf"
   }
  }
 },
 "nbformat": 4,
 "nbformat_minor": 2
}
